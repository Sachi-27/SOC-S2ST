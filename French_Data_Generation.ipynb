{
 "cells": [
  {
   "cell_type": "code",
   "execution_count": 1,
   "id": "c1099204",
   "metadata": {},
   "outputs": [
    {
     "name": "stdout",
     "output_type": "stream",
     "text": [
      "Requirement already satisfied: googletrans==3.1.0a0 in c:\\users\\sriram\\anaconda3\\envs\\pygdal\\lib\\site-packages (3.1.0a0)Note: you may need to restart the kernel to use updated packages.\n",
      "\n",
      "Requirement already satisfied: httpx==0.13.3 in c:\\users\\sriram\\anaconda3\\envs\\pygdal\\lib\\site-packages (from googletrans==3.1.0a0) (0.13.3)\n",
      "Requirement already satisfied: certifi in c:\\users\\sriram\\anaconda3\\envs\\pygdal\\lib\\site-packages (from httpx==0.13.3->googletrans==3.1.0a0) (2022.12.7)\n",
      "Requirement already satisfied: hstspreload in c:\\users\\sriram\\anaconda3\\envs\\pygdal\\lib\\site-packages (from httpx==0.13.3->googletrans==3.1.0a0) (2023.1.1)\n",
      "Requirement already satisfied: sniffio in c:\\users\\sriram\\anaconda3\\envs\\pygdal\\lib\\site-packages (from httpx==0.13.3->googletrans==3.1.0a0) (1.3.0)\n",
      "Requirement already satisfied: chardet==3.* in c:\\users\\sriram\\anaconda3\\envs\\pygdal\\lib\\site-packages (from httpx==0.13.3->googletrans==3.1.0a0) (3.0.4)\n",
      "Requirement already satisfied: idna==2.* in c:\\users\\sriram\\anaconda3\\envs\\pygdal\\lib\\site-packages (from httpx==0.13.3->googletrans==3.1.0a0) (2.10)\n",
      "Requirement already satisfied: rfc3986<2,>=1.3 in c:\\users\\sriram\\anaconda3\\envs\\pygdal\\lib\\site-packages (from httpx==0.13.3->googletrans==3.1.0a0) (1.5.0)\n",
      "Requirement already satisfied: httpcore==0.9.* in c:\\users\\sriram\\anaconda3\\envs\\pygdal\\lib\\site-packages (from httpx==0.13.3->googletrans==3.1.0a0) (0.9.1)\n",
      "Requirement already satisfied: h11<0.10,>=0.8 in c:\\users\\sriram\\anaconda3\\envs\\pygdal\\lib\\site-packages (from httpcore==0.9.*->httpx==0.13.3->googletrans==3.1.0a0) (0.9.0)\n",
      "Requirement already satisfied: h2==3.* in c:\\users\\sriram\\anaconda3\\envs\\pygdal\\lib\\site-packages (from httpcore==0.9.*->httpx==0.13.3->googletrans==3.1.0a0) (3.2.0)\n",
      "Requirement already satisfied: hyperframe<6,>=5.2.0 in c:\\users\\sriram\\anaconda3\\envs\\pygdal\\lib\\site-packages (from h2==3.*->httpcore==0.9.*->httpx==0.13.3->googletrans==3.1.0a0) (5.2.0)\n",
      "Requirement already satisfied: hpack<4,>=3.0 in c:\\users\\sriram\\anaconda3\\envs\\pygdal\\lib\\site-packages (from h2==3.*->httpcore==0.9.*->httpx==0.13.3->googletrans==3.1.0a0) (3.0.0)\n"
     ]
    }
   ],
   "source": [
    "pip install googletrans==3.1.0a0"
   ]
  },
  {
   "cell_type": "code",
   "execution_count": 2,
   "id": "ab663d44",
   "metadata": {},
   "outputs": [
    {
     "name": "stdout",
     "output_type": "stream",
     "text": [
      "Requirement already satisfied: SpeechRecognition in c:\\users\\sriram\\anaconda3\\envs\\pygdal\\lib\\site-packages (3.10.0)\n",
      "Requirement already satisfied: requests>=2.26.0 in c:\\users\\sriram\\anaconda3\\envs\\pygdal\\lib\\site-packages (from SpeechRecognition) (2.30.0)\n",
      "Requirement already satisfied: charset-normalizer<4,>=2 in c:\\users\\sriram\\anaconda3\\envs\\pygdal\\lib\\site-packages (from requests>=2.26.0->SpeechRecognition) (3.1.0)\n",
      "Requirement already satisfied: idna<4,>=2.5 in c:\\users\\sriram\\anaconda3\\envs\\pygdal\\lib\\site-packages (from requests>=2.26.0->SpeechRecognition) (2.10)\n",
      "Requirement already satisfied: urllib3<3,>=1.21.1 in c:\\users\\sriram\\anaconda3\\envs\\pygdal\\lib\\site-packages (from requests>=2.26.0->SpeechRecognition) (2.0.2)\n",
      "Requirement already satisfied: certifi>=2017.4.17 in c:\\users\\sriram\\anaconda3\\envs\\pygdal\\lib\\site-packages (from requests>=2.26.0->SpeechRecognition) (2022.12.7)\n",
      "Note: you may need to restart the kernel to use updated packages.\n"
     ]
    }
   ],
   "source": [
    "pip install SpeechRecognition"
   ]
  },
  {
   "cell_type": "code",
   "execution_count": 3,
   "id": "06cc0000",
   "metadata": {},
   "outputs": [
    {
     "name": "stdout",
     "output_type": "stream",
     "text": [
      "Requirement already satisfied: gTTs in c:\\users\\sriram\\anaconda3\\envs\\pygdal\\lib\\site-packages (2.3.2)\n",
      "Requirement already satisfied: requests<3,>=2.27 in c:\\users\\sriram\\anaconda3\\envs\\pygdal\\lib\\site-packages (from gTTs) (2.30.0)\n",
      "Requirement already satisfied: click<8.2,>=7.1 in c:\\users\\sriram\\anaconda3\\envs\\pygdal\\lib\\site-packages (from gTTs) (8.1.3)\n",
      "Requirement already satisfied: colorama in c:\\users\\sriram\\anaconda3\\envs\\pygdal\\lib\\site-packages (from click<8.2,>=7.1->gTTs) (0.4.6)\n",
      "Requirement already satisfied: charset-normalizer<4,>=2 in c:\\users\\sriram\\anaconda3\\envs\\pygdal\\lib\\site-packages (from requests<3,>=2.27->gTTs) (3.1.0)\n",
      "Requirement already satisfied: idna<4,>=2.5 in c:\\users\\sriram\\anaconda3\\envs\\pygdal\\lib\\site-packages (from requests<3,>=2.27->gTTs) (2.10)\n",
      "Requirement already satisfied: urllib3<3,>=1.21.1 in c:\\users\\sriram\\anaconda3\\envs\\pygdal\\lib\\site-packages (from requests<3,>=2.27->gTTs) (2.0.2)\n",
      "Requirement already satisfied: certifi>=2017.4.17 in c:\\users\\sriram\\anaconda3\\envs\\pygdal\\lib\\site-packages (from requests<3,>=2.27->gTTs) (2022.12.7)\n",
      "Note: you may need to restart the kernel to use updated packages.\n"
     ]
    }
   ],
   "source": [
    "pip install gTTs"
   ]
  },
  {
   "cell_type": "code",
   "execution_count": 4,
   "id": "a98084ac",
   "metadata": {},
   "outputs": [],
   "source": [
    "import googletrans"
   ]
  },
  {
   "cell_type": "code",
   "execution_count": 5,
   "id": "cdc86b6e",
   "metadata": {},
   "outputs": [
    {
     "name": "stdout",
     "output_type": "stream",
     "text": [
      "{'af': 'afrikaans', 'sq': 'albanian', 'am': 'amharic', 'ar': 'arabic', 'hy': 'armenian', 'az': 'azerbaijani', 'eu': 'basque', 'be': 'belarusian', 'bn': 'bengali', 'bs': 'bosnian', 'bg': 'bulgarian', 'ca': 'catalan', 'ceb': 'cebuano', 'ny': 'chichewa', 'zh-cn': 'chinese (simplified)', 'zh-tw': 'chinese (traditional)', 'co': 'corsican', 'hr': 'croatian', 'cs': 'czech', 'da': 'danish', 'nl': 'dutch', 'en': 'english', 'eo': 'esperanto', 'et': 'estonian', 'tl': 'filipino', 'fi': 'finnish', 'fr': 'french', 'fy': 'frisian', 'gl': 'galician', 'ka': 'georgian', 'de': 'german', 'el': 'greek', 'gu': 'gujarati', 'ht': 'haitian creole', 'ha': 'hausa', 'haw': 'hawaiian', 'iw': 'hebrew', 'he': 'hebrew', 'hi': 'hindi', 'hmn': 'hmong', 'hu': 'hungarian', 'is': 'icelandic', 'ig': 'igbo', 'id': 'indonesian', 'ga': 'irish', 'it': 'italian', 'ja': 'japanese', 'jw': 'javanese', 'kn': 'kannada', 'kk': 'kazakh', 'km': 'khmer', 'ko': 'korean', 'ku': 'kurdish (kurmanji)', 'ky': 'kyrgyz', 'lo': 'lao', 'la': 'latin', 'lv': 'latvian', 'lt': 'lithuanian', 'lb': 'luxembourgish', 'mk': 'macedonian', 'mg': 'malagasy', 'ms': 'malay', 'ml': 'malayalam', 'mt': 'maltese', 'mi': 'maori', 'mr': 'marathi', 'mn': 'mongolian', 'my': 'myanmar (burmese)', 'ne': 'nepali', 'no': 'norwegian', 'or': 'odia', 'ps': 'pashto', 'fa': 'persian', 'pl': 'polish', 'pt': 'portuguese', 'pa': 'punjabi', 'ro': 'romanian', 'ru': 'russian', 'sm': 'samoan', 'gd': 'scots gaelic', 'sr': 'serbian', 'st': 'sesotho', 'sn': 'shona', 'sd': 'sindhi', 'si': 'sinhala', 'sk': 'slovak', 'sl': 'slovenian', 'so': 'somali', 'es': 'spanish', 'su': 'sundanese', 'sw': 'swahili', 'sv': 'swedish', 'tg': 'tajik', 'ta': 'tamil', 'te': 'telugu', 'th': 'thai', 'tr': 'turkish', 'uk': 'ukrainian', 'ur': 'urdu', 'ug': 'uyghur', 'uz': 'uzbek', 'vi': 'vietnamese', 'cy': 'welsh', 'xh': 'xhosa', 'yi': 'yiddish', 'yo': 'yoruba', 'zu': 'zulu'}\n"
     ]
    }
   ],
   "source": [
    "print(googletrans.LANGUAGES)"
   ]
  },
  {
   "cell_type": "code",
   "execution_count": 2,
   "id": "cee89f99",
   "metadata": {},
   "outputs": [],
   "source": [
    "from googletrans import Translator\n",
    "translator = Translator()"
   ]
  },
  {
   "cell_type": "code",
   "execution_count": 6,
   "id": "77dbec92",
   "metadata": {},
   "outputs": [],
   "source": [
    "#\"C:\\Users\\sriram\\Downloads\\dev-clean\\LibriSpeech\\dev-clean\\84\\121550\\84-121550.trans.txt\"\n",
    "f = open(\"C:/Users/sriram/Downloads/dev-clean/LibriSpeech/dev-clean/84/121550/84-121550.trans.txt\", 'r')"
   ]
  },
  {
   "cell_type": "code",
   "execution_count": 8,
   "id": "deb05373",
   "metadata": {},
   "outputs": [
    {
     "name": "stdout",
     "output_type": "stream",
     "text": [
      "84-121550-0000 BUT WITH FULL RAVISHMENT THE HOURS OF PRIME SINGING RECEIVED THEY IN THE MIDST OF LEAVES THAT EVER BORE A BURDEN TO THEIR RHYMES\n",
      "84-121550-0001 ALL WATERS THAT ON EARTH MOST LIMPID ARE WOULD SEEM TO HAVE WITHIN THEMSELVES SOME MIXTURE COMPARED WITH THAT WHICH NOTHING DOTH CONCEAL\n",
      "84-121550-0002 THOU MAKEST ME REMEMBER WHERE AND WHAT PROSERPINA THAT MOMENT WAS WHEN LOST HER MOTHER HER AND SHE HERSELF THE SPRING\n",
      "84-121550-0003 I DO NOT THINK THERE SHONE SO GREAT A LIGHT UNDER THE LIDS OF VENUS WHEN TRANSFIXED BY HER OWN SON BEYOND HIS USUAL CUSTOM\n",
      "84-121550-0004 YE ARE NEW COMERS AND BECAUSE I SMILE BEGAN SHE PERADVENTURE IN THIS PLACE ELECT TO HUMAN NATURE FOR ITS NEST\n",
      "84-121550-0005 SOME APPREHENSION KEEPS YOU MARVELLING BUT THE PSALM DELECTASTI GIVETH LIGHT WHICH HAS THE POWER TO UNCLOUD YOUR INTELLECT\n",
      "84-121550-0006 THE GOOD SUPREME SOLE IN ITSELF DELIGHTING CREATED MAN GOOD AND THIS GOODLY PLACE GAVE HIM AS HANSEL OF ETERNAL PEACE\n",
      "84-121550-0007 BY HIS DEFAULT SHORT WHILE HE SOJOURNED HERE BY HIS DEFAULT TO WEEPING AND TO TOIL HE CHANGED HIS INNOCENT LAUGHTER AND SWEET PLAY\n",
      "84-121550-0008 THIS EVERY OTHER SAVOUR DOTH TRANSCEND AND NOTWITHSTANDING SLAKED SO FAR MAY BE THY THIRST THAT I REVEAL TO THEE NO MORE\n",
      "84-121550-0009 BETWEEN HER STEPS AND MINE WERE NOT A HUNDRED WHEN EQUALLY THE MARGINS GAVE A TURN IN SUCH A WAY THAT TO THE EAST I FACED\n",
      "84-121550-0010 NOR EVEN THUS OUR WAY CONTINUED FAR BEFORE THE LADY WHOLLY TURNED HERSELF UNTO ME SAYING BROTHER LOOK AND LISTEN\n",
      "84-121550-0011 NOW HELICON MUST NEEDS POUR FORTH FOR ME AND WITH HER CHOIR URANIA MUST ASSIST ME TO PUT IN VERSE THINGS DIFFICULT TO THINK\n",
      "84-121550-0012 THEN BACK I TURNED MY FACE TO THOSE HIGH THINGS WHICH MOVED THEMSELVES TOWARDS US SO SEDATELY THEY HAD BEEN DISTANCED BY NEW WEDDED BRIDES\n",
      "84-121550-0013 AND I BEHELD THE FLAMELETS ONWARD GO LEAVING BEHIND THEMSELVES THE AIR DEPICTED AND THEY OF TRAILING PENNONS HAD THE SEMBLANCE SO THAT IT OVERHEAD REMAINED DISTINCT WITH SEVENFOLD LISTS ALL OF THEM OF THE COLOURS WHENCE THE SUN'S BOW IS MADE AND DELIA'S GIRDLE\n",
      "84-121550-0014 THESE STANDARDS TO THE REARWARD LONGER WERE THAN WAS MY SIGHT AND AS IT SEEMED TO ME TEN PACES WERE THE OUTERMOST APART\n",
      "84-121550-0015 THE INTERVAL BETWEEN THESE FOUR CONTAINED A CHARIOT TRIUMPHAL ON TWO WHEELS WHICH BY A GRIFFIN'S NECK CAME DRAWN ALONG\n",
      "84-121550-0016 NOT ONLY ROME WITH NO SUCH SPLENDID CAR E'ER GLADDENED AFRICANUS OR AUGUSTUS BUT POOR TO IT THAT OF THE SUN WOULD BE\n",
      "84-121550-0017 THREE MAIDENS AT THE RIGHT WHEEL IN A CIRCLE CAME ONWARD DANCING ONE SO VERY RED THAT IN THE FIRE SHE HARDLY HAD BEEN NOTED\n",
      "84-121550-0018 THE SECOND WAS AS IF HER FLESH AND BONES HAD ALL BEEN FASHIONED OUT OF EMERALD THE THIRD APPEARED AS SNOW BUT NEWLY FALLEN\n",
      "84-121550-0019 IN REAR OF ALL THE GROUP HERE TREATED OF TWO OLD MEN I BEHELD UNLIKE IN HABIT BUT LIKE IN GAIT EACH DIGNIFIED AND GRAVE\n",
      "84-121550-0020 AND WHEN THE CAR WAS OPPOSITE TO ME THUNDER WAS HEARD AND ALL THAT FOLK AUGUST SEEMED TO HAVE FURTHER PROGRESS INTERDICTED\n",
      "84-121550-0021 AND ONE OF THEM AS IF BY HEAVEN COMMISSIONED SINGING VENI SPONSA DE LIBANO SHOUTED THREE TIMES AND ALL THE OTHERS AFTER\n",
      "84-121550-0022 AS SOON AS ON MY VISION SMOTE THE POWER SUBLIME THAT HAD ALREADY PIERCED ME THROUGH ERE FROM MY BOYHOOD I HAD YET COME FORTH\n",
      "84-121550-0023 TO THE LEFT HAND I TURNED WITH THAT RELIANCE WITH WHICH THE LITTLE CHILD RUNS TO HIS MOTHER WHEN HE HAS FEAR OR WHEN HE IS AFFLICTED\n",
      "84-121550-0024 TO SAY UNTO VIRGILIUS NOT A DRACHM OF BLOOD REMAINS IN ME THAT DOES NOT TREMBLE I KNOW THE TRACES OF THE ANCIENT FLAME\n",
      "84-121550-0025 DANTE BECAUSE VIRGILIUS HAS DEPARTED DO NOT WEEP YET DO NOT WEEP YET AWHILE FOR BY ANOTHER SWORD THOU NEED'ST MUST WEEP\n",
      "84-121550-0026 I SAW THE LADY WHO EREWHILE APPEARED VEILED UNDERNEATH THE ANGELIC FESTIVAL DIRECT HER EYES TO ME ACROSS THE RIVER\n",
      "84-121550-0027 LOOK AT ME WELL IN SOOTH I'M BEATRICE\n",
      "84-121550-0028 YE KEEP YOUR WATCH IN THE ETERNAL DAY SO THAT NOR NIGHT NOR SLEEP CAN STEAL FROM YOU ONE STEP THE AGES MAKE UPON THEIR PATH\n",
      "84-121550-0029 THEREFORE MY ANSWER IS WITH GREATER CARE THAT HE MAY HEAR ME WHO IS WEEPING YONDER SO THAT THE SIN AND DOLE BE OF ONE MEASURE\n",
      "84-121550-0030 BUT BY THE LARGESS OF CELESTIAL GRACES WHICH HAVE SUCH LOFTY VAPOURS FOR THEIR RAIN THAT NEAR TO THEM OUR SIGHT APPROACHES NOT\n",
      "84-121550-0031 AS SOON AS EVER OF MY SECOND AGE I WAS UPON THE THRESHOLD AND CHANGED LIFE HIMSELF FROM ME HE TOOK AND GAVE TO OTHERS\n",
      "84-121550-0032 SO LOW HE FELL THAT ALL APPLIANCES FOR HIS SALVATION WERE ALREADY SHORT SAVE SHOWING HIM THE PEOPLE OF PERDITION\n",
      "84-121550-0033 CONFUSION AND DISMAY TOGETHER MINGLED FORCED SUCH A YES FROM OUT MY MOUTH THAT SIGHT WAS NEEDFUL TO THE UNDERSTANDING OF IT\n",
      "84-121550-0034 WHENCE SHE TO ME IN THOSE DESIRES OF MINE WHICH LED THEE TO THE LOVING OF THAT GOOD BEYOND WHICH THERE IS NOTHING TO ASPIRE TO\n",
      "84-121550-0035 AND WHAT ALLUREMENTS OR WHAT VANTAGES UPON THE FOREHEAD OF THE OTHERS SHOWED THAT THOU SHOULDST TURN THY FOOTSTEPS UNTO THEM\n",
      "\n"
     ]
    }
   ],
   "source": [
    "if f.mode == 'r':\n",
    "    contents = f.read()\n",
    "    print(contents)"
   ]
  },
  {
   "cell_type": "code",
   "execution_count": 9,
   "id": "15ea40c2",
   "metadata": {},
   "outputs": [
    {
     "name": "stdout",
     "output_type": "stream",
     "text": [
      "84-121550-0000 MAIS AVEC PLEIN RAVISSEMENT LES HEURES DE CHANT PRIME ONT REÇU AU MILIEU DES FEUILLES QUI ONT JAMAIS PORTÉ UN FARDEAU À LEURS RHYMES\n",
      "84-121550-0001 TOUTES LES EAUX QUI SUR TERRE SONT LES PLUS LIMPIDES SEMBLENT CONTENIR EN ELLES-MÊMES UN MÉLANGE PAR RAPPORT À CELLE QUE RIEN NE CACHE\n",
      "84-121550-0002 TU ME RAPPELLES OÙ ET CE QUE PROSERPINA ÉTAIT CE MOMENT OÙ PERDU SA MÈRE ELLE ET ELLE-MÊME LE PRINTEMPS\n",
      "84-121550-0003 JE NE PENSE PAS QU'IL BRILLE UNE SI GRANDE LUMIÈRE SOUS LES PAUPIÈRES DE VÉNUS LORSQU'ELLE EST TRANSFIXÉE PAR SON PROPRE FILS AU-DELÀ DE SA COUTUME HABITUELLE\n",
      "84-121550-0004 VOUS ÊTES DE NOUVEAUX VENUS ET PARCE QUE JE SOURIS A COMMENCÉ ELLE A COMMENCÉ UNE AVENTURE DANS CET ENDROIT ÉLIRE À LA NATURE HUMAINE POUR SON NID\n",
      "84-121550-0005 UNE CERTAINE APPRÉHENSION VOUS PERMET D'ÉMERVEILLER MAIS LE PSAUME DELECTASTI DONNE LA LUMIÈRE QUI A LE POUVOIR DE DÉCOUVRIR VOTRE INTELLECT\n",
      "84-121550-0006 LE BON SEMELLE SUPRÊME EN ELLE-MÊME DÉLICE A CRÉÉ L'HOMME BON ET CE LIEU BON LUI A DONNÉ COMME HANSEL DE LA PAIX ÉTERNELLE\n",
      "84-121550-0007 PAR SON DÉFAUT COURT-PENDANT QU'IL A SÉJOURNÉ ICI PAR SON DÉFAUT À PLEURER ET À TRAITER IL A CHANGÉ SON RIRE INNOCENT ET SON JEU DOUX\n",
      "84-121550-0008 TOUTES LES AUTRES SAVEURS TRANSCENDENT ET BIEN QU'ELLES ONT ÉTEINTES JUSQU'ICI PEUVENT ÊTRE TA SOIF QUE JE NE TE RÉVÈLE PLUS\n",
      "84-121550-0009 ENTRE SES PAS ET LES MINS N'ÉTAIT PAS UNE CENTAINE LORSQU'ÉGALEMENT LES MARGES ONT DONNÉ UN TOUR DE TELLE FAÇON QU'À L'EST J'AI FAIT FACE\n",
      "84-121550-0010 NI MÊME AINSI NOTRE CHEMIN A CONTINUÉ LOIN AVANT QUE LA DAME SE TOURNE ENTIÈREMENT VERS MOI EN DIT FRÈRE REGARDEZ ET ÉCOUTEZ\n",
      "84-121550-0011 MAINTENANT, HELICON DOIT AVOIR POUR MOI ET AVEC SON CHŒUR URANIA DOIT M'AIDER À METTRE EN VERSET DES CHOSES DIFFICILES À PENSER\n",
      "84-121550-0012 PUIS DE RETOUR J'AI TOURNÉ MON VISAGE VERS CES CHOSES ÉLEVÉES QUI SE DÉPLACENT VERS NOUS SI SÉDAMMENT QU'ELLES ONT ÉTÉ DISTANCÉES PAR DE NOUVELLES ÉPOUSES MARIÉES\n",
      "84-121550-0013 ET J'AI VU LES FLAMELETS ALLER EN LAISSANT DERRIÈRE L'AIR REPRÉSENTÉ ET ILS ONT EU LA SEMBLANCE DES PANNONS SUIVANTS POUR QU'IL SOIT AU-DESSUS DEMEURE DISTINCT AVEC DES LISTES SEPTUPLES TOUTES DES COULEURS D'OÙ L'ARC DU SOLEIL EST FAIT ET LA CEINTURE DE DELIA\n",
      "84-121550-0014 CES NORMES À L'ARRIÈRE ONT ÉTÉ PLUS LONGUES QUE MA VUE ET COMME IL ME SEMBLAIT DIX PAS ÉTAIENT LES PLUS À L'ÉCART\n",
      "84-121550-0015 L'INTERVALLE ENTRE CES QUATRE CONTENAIT UN CHAR TRIOMPHAL SUR DEUX ROUES QUI PAR LE COU D'UN GRIFFON S'EST ENTRAÎNÉ LE LONG\n",
      "84-121550-0016 NON SEULEMENT ROME SANS UNE TELLE VOITURE SPLENDIDE E'ER GLADDENED AFRICANUS OU AUGUSTUS MAIS PAUVRE QUE DU SOLEIL SERAIT\n",
      "84-121550-0017 TROIS FEMMES À LA ROUE DROITE DANS UN CERCLE SONT VENUES EN DANSANT UNE SI TRÈS ROUGE QUE DANS LE FEU ELLE AVAIT À peine été remarquée\n",
      "84-121550-0018 LA DEUXIÈME ÉTAIT COMME SI SA CHAIR ET SES OS AVAIT ÉTÉ FAÇONNÉS D'ÉMERAUDE LA TROISIÈME APPARAISSAIT COMME DE LA NEIGE MAIS NOUVELLEMENT TOMBE\n",
      "84-121550-0019 À L'ARRIÈRE DE TOUT LE GROUPE ICI TRAITÉ DE DEUX VIEUX HOMMES QUE JE VOIS À LA DIFFÉRENCE DE L'HABITUDE MAIS COMME DANS LA DÉMARCHE CHACUN DIGNIFIÉ ET TOMBE\n",
      "84-121550-0020 ET QUAND LA VOITURE ÉTAIT OPPOSÉE À MOI, LE TONNERRE A ÉTÉ ENTENDU ET TOUT CE QUE LE FOLK AOÛT SEMBLAIT AVOIR PLUS DE PROGRÈS INTERDIT\n",
      "84-121550-0021 ET L'UN D'EUX COMME PAR LE CIEL A COMMANDÉ DE CHANTER VENI SPONSA DE LIBANO A CRI TROIS FOIS ET TOUS LES AUTRES APRÈS\n",
      "84-121550-0022 DÈS QUE SUR MA VISION, J'AI ÉPOUSSÉ LE POUVOIR SUBLIME QUI M'AVAIT DÉJÀ TRANSPÉRÉ À TRAVERS ERE DE MON ENFANCE QUE J'ÉTAIS ENCORE VENU\n",
      "84-121550-0023 VERS LA GAUCHE JE ME TOURNE AVEC CETTE CONFIANCE AVEC LAQUELLE LE PETIT ENFANT COURT VERS SA MERE QUAND IL A PEUR OU QUAND IL EST AFFLIGE\n",
      "84-121550-0024 POUR DIRE A VIRGILE PAS UN DRACHM DE SANG QUI NE RESTE EN MOI QUI NE TREMBLE PAS JE CONNAIS LES TRACES DE LA FLAMME ANCIENNE\n",
      "84-121550-0025 DANTE PARCE QUE VIRGILIUS EST DÉPART NE PLEUREZ PAS ENCORE NE PLEUREZ PAS ENCORE PENDANT QUE PAR UNE AUTRE ÉPÉE VOUS AVEZ BESOIN DEVEZ PLEURER\n",
      "84-121550-0026 J'AI VU LA DAME QUI APPARAISSAIT VOILE SOUS LE FESTIVAL ANGELIQUE DIRIGER SES YEUX VERS MOI DE L'AUTRE TERRAIN DE LA RIVIÈRE\n",
      "84-121550-0027 REGARDEZ-MOI BIEN EN SOOT JE SUIS BEATRICE\n",
      "84-121550-0028 VOUS SURVEILLEZ LE JOUR ETERNEL AFIN QUE NI LA ​​NUIT NI LE SOMMEIL NE PEUVENT VOUS VOLER UN PAS QUE LES AGES FONT SUR LEUR CHEMIN\n",
      "84-121550-0029 PAR CONSÉQUENT MA RÉPONSE EST AVEC PLUS DE SOIN QU'IL M'ENTENDE QUI PLEURE LÀ-BAS POUR QUE LE PÉCHÉ ET LE DOLE SOIENT D'UNE MESURE\n",
      "84-121550-0030 MAIS PAR LA GRANDE GRACES CÉLESTES QUI ONT DES VAPEURS TELLEMENT ÉLEVÉES POUR LEUR PLUIE QUE NOTRE VUE N'APPROCHE PAS D'ELLES\n",
      "84-121550-0031 DÈS QUE JAMAIS DE MON DEUXIÈME ÂGE, J'AI ÉTÉ SUR LE SEUIL ET J'AI CHANGÉ LA VIE DE MOI IL A PRIS ET DONNÉ AUX AUTRES\n",
      "84-121550-0032 IL EST TOMBE SI BAS QUE TOUS LES APPAREILS POUR SON SALUT ONT DEJA ETE COURT SAUVEGARDER LE PEUPLE DE PERDITION\n",
      "84-121550-0033 LA CONFUSION ET LA CONSOMMATION MÊLÉES ONT FORCÉ UN TEL OUI DE MA BOUCHE QUE LA VUE ÉTAIT NÉCESSAIRE POUR LE COMPRENDRE\n",
      "84-121550-0034 D'OÙ ELLE VIENT À MOI DANS CES DÉSIRS QUI TE MIENNENT À AIMER CE BIEN AU-DELÀ DUQUEL IL N'Y A RIEN À Aspirer\n",
      "84-121550-0035 ET QUELS SÉDUCTIONS OU QUELS AVANTAGES SUR LE FRONT DES AUTRES ONT MONTRÉ QUE VOUS DEVRIEZ TOURNER VOS PAS VERS EUX\n"
     ]
    }
   ],
   "source": [
    "result = translator.translate(contents, dest='fr')\n",
    "print(result.text)"
   ]
  },
  {
   "cell_type": "code",
   "execution_count": 11,
   "id": "39ad854b",
   "metadata": {},
   "outputs": [],
   "source": [
    "with open(\"C:/Users/sriram/Downloads/dev-clean/LibriSpeech/dev-clean/84/121550/84-121550.trans_french.txt\", 'w', encoding=\"utf-8\") as f:\n",
    "    f.write(result.text)"
   ]
  },
  {
   "cell_type": "code",
   "execution_count": 4,
   "id": "6a29efa2",
   "metadata": {},
   "outputs": [],
   "source": [
    "from gtts import gTTS "
   ]
  },
  {
   "cell_type": "code",
   "execution_count": 13,
   "id": "f2d37861",
   "metadata": {},
   "outputs": [],
   "source": [
    "with open(\"C:/Users/sriram/Downloads/dev-clean/LibriSpeech/dev-clean/84/121550/84-121550.trans_french.txt\") as file:\n",
    "    for item in file:\n",
    "        text_translated = item.split(\" \", 1)[1]\n",
    "        speak = gTTS(text=text_translated, lang='fr', slow=False)\n",
    "        speak.save(\"C:/Users/sriram/Downloads/dev-clean/LibriSpeech/dev-clean/84/121550/\" + item.split(\" \", 1)[0] + '_infrench.wav')"
   ]
  },
  {
   "cell_type": "code",
   "execution_count": 25,
   "id": "acb4f1b8",
   "metadata": {},
   "outputs": [],
   "source": [
    "# \"C:\\Users\\sriram\\Downloads\\dev-clean\\LibriSpeech\\dev-clean\\1272\\128104\\1272-128104.trans.txt\"\n",
    "\n",
    "f = open(\"C:/Users/sriram/Downloads/dev-clean/LibriSpeech/dev-clean/1272/128104/1272-128104.trans.txt\", 'r')"
   ]
  },
  {
   "cell_type": "code",
   "execution_count": 26,
   "id": "285d4bef",
   "metadata": {},
   "outputs": [
    {
     "name": "stdout",
     "output_type": "stream",
     "text": [
      "1272-128104-0000 MISTER QUILTER IS THE APOSTLE OF THE MIDDLE CLASSES AND WE ARE GLAD TO WELCOME HIS GOSPEL\n",
      "1272-128104-0001 NOR IS MISTER QUILTER'S MANNER LESS INTERESTING THAN HIS MATTER\n",
      "1272-128104-0002 HE TELLS US THAT AT THIS FESTIVE SEASON OF THE YEAR WITH CHRISTMAS AND ROAST BEEF LOOMING BEFORE US SIMILES DRAWN FROM EATING AND ITS RESULTS OCCUR MOST READILY TO THE MIND\n",
      "1272-128104-0003 HE HAS GRAVE DOUBTS WHETHER SIR FREDERICK LEIGHTON'S WORK IS REALLY GREEK AFTER ALL AND CAN DISCOVER IN IT BUT LITTLE OF ROCKY ITHACA\n",
      "1272-128104-0004 LINNELL'S PICTURES ARE A SORT OF UP GUARDS AND AT EM PAINTINGS AND MASON'S EXQUISITE IDYLLS ARE AS NATIONAL AS A JINGO POEM MISTER BIRKET FOSTER'S LANDSCAPES SMILE AT ONE MUCH IN THE SAME WAY THAT MISTER CARKER USED TO FLASH HIS TEETH AND MISTER JOHN COLLIER GIVES HIS SITTER A CHEERFUL SLAP ON THE BACK BEFORE HE SAYS LIKE A SHAMPOOER IN A TURKISH BATH NEXT MAN\n",
      "1272-128104-0005 IT IS OBVIOUSLY UNNECESSARY FOR US TO POINT OUT HOW LUMINOUS THESE CRITICISMS ARE HOW DELICATE IN EXPRESSION\n",
      "1272-128104-0006 ON THE GENERAL PRINCIPLES OF ART MISTER QUILTER WRITES WITH EQUAL LUCIDITY\n",
      "1272-128104-0007 PAINTING HE TELLS US IS OF A DIFFERENT QUALITY TO MATHEMATICS AND FINISH IN ART IS ADDING MORE FACT\n",
      "1272-128104-0008 AS FOR ETCHINGS THEY ARE OF TWO KINDS BRITISH AND FOREIGN\n",
      "1272-128104-0009 HE LAMENTS MOST BITTERLY THE DIVORCE THAT HAS BEEN MADE BETWEEN DECORATIVE ART AND WHAT WE USUALLY CALL PICTURES MAKES THE CUSTOMARY APPEAL TO THE LAST JUDGMENT AND REMINDS US THAT IN THE GREAT DAYS OF ART MICHAEL ANGELO WAS THE FURNISHING UPHOLSTERER\n",
      "1272-128104-0010 NEAR THE FIRE AND THE ORNAMENTS FRED BROUGHT HOME FROM INDIA ON THE MANTEL BOARD\n",
      "1272-128104-0011 IN FACT HE IS QUITE SEVERE ON MISTER RUSKIN FOR NOT RECOGNISING THAT A PICTURE SHOULD DENOTE THE FRAILTY OF MAN AND REMARKS WITH PLEASING COURTESY AND FELICITOUS GRACE THAT MANY PHASES OF FEELING\n",
      "1272-128104-0012 ONLY UNFORTUNATELY HIS OWN WORK NEVER DOES GET GOOD\n",
      "1272-128104-0013 MISTER QUILTER HAS MISSED HIS CHANCE FOR HE HAS FAILED EVEN TO MAKE HIMSELF THE TUPPER OF PAINTING\n",
      "1272-128104-0014 BY HARRY QUILTER M A\n",
      "\n"
     ]
    }
   ],
   "source": [
    "if f.mode == 'r':\n",
    "    contents = f.read()\n",
    "    print(contents)"
   ]
  },
  {
   "cell_type": "code",
   "execution_count": 27,
   "id": "6ef3eef3",
   "metadata": {},
   "outputs": [
    {
     "name": "stdout",
     "output_type": "stream",
     "text": [
      "1272-128104-0000 MONSIEUR QUILTER EST L'APÔTRE DES CLASSES MOYENNES ET NOUS SOMMES HEUREUX D'ACCUEILLIR SON ÉVANGILE\n",
      "1272-128104-0001 LA MANIÈRE DE MONSIEUR QUILTER N'EST PAS MOINS INTÉRESSANTE QUE SON AFFAIRE\n",
      "1272-128104-0002 IL NOUS DIT QU'EN CETTE SAISON FESTIVE DE L'ANNÉE AVEC NOËL ET LE RÔTI DE BŒUF QUI SE PRÉSENTENT DEVANT NOUS DES SIMILES TIRÉES DE MANGER ET SES RÉSULTATS SE PRODUISENT PLUS FACILEMENT À L'ESPRIT\n",
      "1272-128104-0003 IL A DE GRAVES DOUTES SI LE TRAVAIL DE SIR FREDERICK LEIGHTON EST VRAIMENT GREC APRÈS TOUT ET PEUT DÉCOUVRIR EN ELLE MAIS PEU DE ROCKY ITHACA\n",
      "1272-128104-0004 LES PHOTOS DE LINNELL SONT UNE SORTE DE GARDES ET AT EM LES PEINTURES ET LES IDYLLES EXQUISES DE MASON SONT AUSSI NATIONALES QU'UN POÈME JINGO LES PAYSAGES DE MONSIEUR BIRKET FOSTER SOURIENT À UN BEAUCOUP DE LA MÊME MANIÈRE QUE MONSIEUR CARKER UTILISAIT POUR CLIGNOTER SES DENTS ET MONSIEUR JOHN COLLIER DONNE À SON SITTER UNE gifle joyeuse SUR LE DOS AVANT QU'IL DIT COMME UN SHAMPOING DANS UN BAIN TURC L'HOMME PROCHAIN\n",
      "1272-128104-0005 IL N'EST ÉVIDEMMENT PAS NÉCESSAIRE DE SOULIGNER COMME CES CRITIQUES SONT LUMINEUSES ET COMME DÉLICAT DANS L'EXPRESSION\n",
      "1272-128104-0006 SUR LES PRINCIPES GÉNÉRAUX DE L'ART MONSIEUR QUILTER ÉCRIT AVEC UNE LUCIDITÉ ÉGALE\n",
      "1272-128104-0007 LA PEINTURE IL NOUS DIT EST D'UNE QUALITÉ DIFFÉRENTE DES MATHÉMATIQUES ET LA FINITION DANS L'ART AJOUTE PLUS DE FAIT\n",
      "1272-128104-0008 QUANT AUX GRAVURES ELLES SONT DE DEUX TYPES BRITANNIQUES ET ETRANGERES\n",
      "1272-128104-0009 IL DÉPLORE AMÈREMENT LE DIVORCE QUI S'EST FAIT ENTRE L'ART DÉCORATIF ET CE QUE NOUS APPELONS HABITUELLEMENT LES IMAGES FAIT L'APPEL D'HABITUDE AU JUGEMENT DERNIER ET NOUS RAPPELLE QU'AUX GRANDS JOURS DE L'ART MICHEL ANGELO ÉTAIT LE REMBOURREUR\n",
      "1272-128104-0010 PRÈS DU FEU ET DES ORNEMENTS FRED A RAMENÉ DE L'INDE SUR LA CHEMINÉE\n",
      "1272-128104-0011 EN FAIT, IL EST TRÈS SÉVÈRE À MONSIEUR RUSKIN POUR NE PAS RECONNAÎTRE QU'UNE PHOTO DEVRAIT DÉNOTER LA FRAGILITE DE L'HOMME ET REMARQUES AVEC UNE COURTOISIE AGRÉABLE ET UNE GRACE FÉLICITE QUE DE NOMBREUSES PHASES DE SENTIMENT\n",
      "1272-128104-0012 SEULEMENT MALHEUREUSEMENT SON PROPRE TRAVAIL NE SERA JAMAIS BON\n",
      "1272-128104-0013 MONSIEUR QUILTER A RATTÉ SA CHANCE CAR IL N'A MÊME PAS ÉCHOUÉ À SE FAIRE LE TUPPER DE LA PEINTURE\n",
      "1272-128104-0014 PAR HARRY QUILTER MA\n"
     ]
    }
   ],
   "source": [
    "result = translator.translate(contents, dest='fr')\n",
    "print(result.text)\n",
    "\n",
    "with open(\"C:/Users/sriram/Downloads/dev-clean/LibriSpeech/dev-clean/1272/128104/1272-128104.trans_french.txt\", 'w') as f:\n",
    "    f.write(result.text)"
   ]
  },
  {
   "cell_type": "code",
   "execution_count": 28,
   "id": "f6c1194e",
   "metadata": {},
   "outputs": [],
   "source": [
    "with open(\"C:/Users/sriram/Downloads/dev-clean/LibriSpeech/dev-clean/1272/128104/1272-128104.trans_french.txt\") as file:\n",
    "    for item in file:\n",
    "        text_translated = item.split(\" \", 1)[1]\n",
    "        speak = gTTS(text=text_translated, lang='fr', slow=False)\n",
    "        speak.save(\"C:/Users/sriram/Downloads/dev-clean/LibriSpeech/dev-clean/1272/128104/\" + item.split(\" \", 1)[0] + '_infrench.wav')"
   ]
  },
  {
   "cell_type": "code",
   "execution_count": 15,
   "id": "1d0e223a",
   "metadata": {},
   "outputs": [
    {
     "data": {
      "text/plain": [
       "['1272',\n",
       " '1462',\n",
       " '1673',\n",
       " '174',\n",
       " '1919',\n",
       " '1988',\n",
       " '1993',\n",
       " '2035',\n",
       " '2078',\n",
       " '2086',\n",
       " '2277',\n",
       " '2412',\n",
       " '2428',\n",
       " '251',\n",
       " '2803',\n",
       " '2902',\n",
       " '3000',\n",
       " '3081',\n",
       " '3170',\n",
       " '3536',\n",
       " '3576',\n",
       " '3752',\n",
       " '3853',\n",
       " '422',\n",
       " '5338',\n",
       " '5536',\n",
       " '5694',\n",
       " '5895',\n",
       " '6241',\n",
       " '6295',\n",
       " '6313',\n",
       " '6319',\n",
       " '6345',\n",
       " '652',\n",
       " '777',\n",
       " '7850',\n",
       " '7976',\n",
       " '8297',\n",
       " '84',\n",
       " '8842']"
      ]
     },
     "execution_count": 15,
     "metadata": {},
     "output_type": "execute_result"
    }
   ],
   "source": [
    "import os\n",
    "\n",
    "directory = 'C:/Users/sriram/Downloads/dev-clean/LibriSpeech/dev-clean'\n",
    "os.listdir(directory)"
   ]
  },
  {
   "cell_type": "code",
   "execution_count": 52,
   "id": "b87705da",
   "metadata": {},
   "outputs": [
    {
     "ename": "gTTSError",
     "evalue": "429 (Too Many Requests) from TTS API. Probable cause: Unknown",
     "output_type": "error",
     "traceback": [
      "\u001b[1;31m---------------------------------------------------------------------------\u001b[0m",
      "\u001b[1;31mHTTPError\u001b[0m                                 Traceback (most recent call last)",
      "File \u001b[1;32m~\\Anaconda3\\envs\\pygdal\\Lib\\site-packages\\gtts\\tts.py:269\u001b[0m, in \u001b[0;36mgTTS.stream\u001b[1;34m(self)\u001b[0m\n\u001b[0;32m    267\u001b[0m     log\u001b[38;5;241m.\u001b[39mdebug(\u001b[38;5;124m\"\u001b[39m\u001b[38;5;124mstatus-\u001b[39m\u001b[38;5;132;01m%i\u001b[39;00m\u001b[38;5;124m: \u001b[39m\u001b[38;5;132;01m%s\u001b[39;00m\u001b[38;5;124m\"\u001b[39m, idx, r\u001b[38;5;241m.\u001b[39mstatus_code)\n\u001b[1;32m--> 269\u001b[0m     \u001b[43mr\u001b[49m\u001b[38;5;241;43m.\u001b[39;49m\u001b[43mraise_for_status\u001b[49m\u001b[43m(\u001b[49m\u001b[43m)\u001b[49m\n\u001b[0;32m    270\u001b[0m \u001b[38;5;28;01mexcept\u001b[39;00m requests\u001b[38;5;241m.\u001b[39mexceptions\u001b[38;5;241m.\u001b[39mHTTPError \u001b[38;5;28;01mas\u001b[39;00m e:  \u001b[38;5;66;03m# pragma: no cover\u001b[39;00m\n\u001b[0;32m    271\u001b[0m     \u001b[38;5;66;03m# Request successful, bad response\u001b[39;00m\n",
      "File \u001b[1;32m~\\Anaconda3\\envs\\pygdal\\Lib\\site-packages\\requests\\models.py:1021\u001b[0m, in \u001b[0;36mResponse.raise_for_status\u001b[1;34m(self)\u001b[0m\n\u001b[0;32m   1020\u001b[0m \u001b[38;5;28;01mif\u001b[39;00m http_error_msg:\n\u001b[1;32m-> 1021\u001b[0m     \u001b[38;5;28;01mraise\u001b[39;00m HTTPError(http_error_msg, response\u001b[38;5;241m=\u001b[39m\u001b[38;5;28mself\u001b[39m)\n",
      "\u001b[1;31mHTTPError\u001b[0m: 429 Client Error: Too Many Requests for url: https://www.google.com/sorry/index?continue=https://translate.google.com/_/TranslateWebserverUi/data/batchexecute&q=EhAkCUDUEB4JSQ0dwj2gxgqqGLuZiKMGIjABF8a2CRH04ChYZneLd26jwJoVPPmivCQQXNxOevCBUYSXa3YnHLWkfXn_wuSfWUwyAXI",
      "\nDuring handling of the above exception, another exception occurred:\n",
      "\u001b[1;31mgTTSError\u001b[0m                                 Traceback (most recent call last)",
      "Cell \u001b[1;32mIn[52], line 26\u001b[0m\n\u001b[0;32m     24\u001b[0m text_translated \u001b[38;5;241m=\u001b[39m item\u001b[38;5;241m.\u001b[39msplit(\u001b[38;5;124m\"\u001b[39m\u001b[38;5;124m \u001b[39m\u001b[38;5;124m\"\u001b[39m, \u001b[38;5;241m1\u001b[39m)[\u001b[38;5;241m1\u001b[39m]\n\u001b[0;32m     25\u001b[0m speak \u001b[38;5;241m=\u001b[39m gTTS(text\u001b[38;5;241m=\u001b[39mtext_translated, lang\u001b[38;5;241m=\u001b[39m\u001b[38;5;124m'\u001b[39m\u001b[38;5;124mfr\u001b[39m\u001b[38;5;124m'\u001b[39m, slow\u001b[38;5;241m=\u001b[39m\u001b[38;5;28;01mFalse\u001b[39;00m)\n\u001b[1;32m---> 26\u001b[0m \u001b[43mspeak\u001b[49m\u001b[38;5;241;43m.\u001b[39;49m\u001b[43msave\u001b[49m\u001b[43m(\u001b[49m\u001b[43mnewdir\u001b[49m\u001b[43m \u001b[49m\u001b[38;5;241;43m+\u001b[39;49m\u001b[43m \u001b[49m\u001b[38;5;124;43m'\u001b[39;49m\u001b[38;5;124;43m/\u001b[39;49m\u001b[38;5;124;43m'\u001b[39;49m\u001b[43m \u001b[49m\u001b[38;5;241;43m+\u001b[39;49m\u001b[43m \u001b[49m\u001b[43mitem\u001b[49m\u001b[38;5;241;43m.\u001b[39;49m\u001b[43msplit\u001b[49m\u001b[43m(\u001b[49m\u001b[38;5;124;43m\"\u001b[39;49m\u001b[38;5;124;43m \u001b[39;49m\u001b[38;5;124;43m\"\u001b[39;49m\u001b[43m,\u001b[49m\u001b[43m \u001b[49m\u001b[38;5;241;43m1\u001b[39;49m\u001b[43m)\u001b[49m\u001b[43m[\u001b[49m\u001b[38;5;241;43m0\u001b[39;49m\u001b[43m]\u001b[49m\u001b[43m \u001b[49m\u001b[38;5;241;43m+\u001b[39;49m\u001b[43m \u001b[49m\u001b[38;5;124;43m'\u001b[39;49m\u001b[38;5;124;43m_infrench.wav\u001b[39;49m\u001b[38;5;124;43m'\u001b[39;49m\u001b[43m)\u001b[49m\n",
      "File \u001b[1;32m~\\Anaconda3\\envs\\pygdal\\Lib\\site-packages\\gtts\\tts.py:325\u001b[0m, in \u001b[0;36mgTTS.save\u001b[1;34m(self, savefile)\u001b[0m\n\u001b[0;32m    315\u001b[0m \u001b[38;5;250m\u001b[39m\u001b[38;5;124;03m\"\"\"Do the TTS API request and write result to file.\u001b[39;00m\n\u001b[0;32m    316\u001b[0m \n\u001b[0;32m    317\u001b[0m \u001b[38;5;124;03mArgs:\u001b[39;00m\n\u001b[1;32m   (...)\u001b[0m\n\u001b[0;32m    322\u001b[0m \n\u001b[0;32m    323\u001b[0m \u001b[38;5;124;03m\"\"\"\u001b[39;00m\n\u001b[0;32m    324\u001b[0m \u001b[38;5;28;01mwith\u001b[39;00m \u001b[38;5;28mopen\u001b[39m(\u001b[38;5;28mstr\u001b[39m(savefile), \u001b[38;5;124m\"\u001b[39m\u001b[38;5;124mwb\u001b[39m\u001b[38;5;124m\"\u001b[39m) \u001b[38;5;28;01mas\u001b[39;00m f:\n\u001b[1;32m--> 325\u001b[0m     \u001b[38;5;28;43mself\u001b[39;49m\u001b[38;5;241;43m.\u001b[39;49m\u001b[43mwrite_to_fp\u001b[49m\u001b[43m(\u001b[49m\u001b[43mf\u001b[49m\u001b[43m)\u001b[49m\n\u001b[0;32m    326\u001b[0m     log\u001b[38;5;241m.\u001b[39mdebug(\u001b[38;5;124m\"\u001b[39m\u001b[38;5;124mSaved to \u001b[39m\u001b[38;5;132;01m%s\u001b[39;00m\u001b[38;5;124m\"\u001b[39m, savefile)\n",
      "File \u001b[1;32m~\\Anaconda3\\envs\\pygdal\\Lib\\site-packages\\gtts\\tts.py:306\u001b[0m, in \u001b[0;36mgTTS.write_to_fp\u001b[1;34m(self, fp)\u001b[0m\n\u001b[0;32m    294\u001b[0m \u001b[38;5;250m\u001b[39m\u001b[38;5;124;03m\"\"\"Do the TTS API request(s) and write bytes to a file-like object.\u001b[39;00m\n\u001b[0;32m    295\u001b[0m \n\u001b[0;32m    296\u001b[0m \u001b[38;5;124;03mArgs:\u001b[39;00m\n\u001b[1;32m   (...)\u001b[0m\n\u001b[0;32m    302\u001b[0m \n\u001b[0;32m    303\u001b[0m \u001b[38;5;124;03m\"\"\"\u001b[39;00m\n\u001b[0;32m    305\u001b[0m \u001b[38;5;28;01mtry\u001b[39;00m:\n\u001b[1;32m--> 306\u001b[0m     \u001b[38;5;28;01mfor\u001b[39;00m idx, decoded \u001b[38;5;129;01min\u001b[39;00m \u001b[38;5;28menumerate\u001b[39m(\u001b[38;5;28mself\u001b[39m\u001b[38;5;241m.\u001b[39mstream()):\n\u001b[0;32m    307\u001b[0m         fp\u001b[38;5;241m.\u001b[39mwrite(decoded)\n\u001b[0;32m    308\u001b[0m         log\u001b[38;5;241m.\u001b[39mdebug(\u001b[38;5;124m\"\u001b[39m\u001b[38;5;124mpart-\u001b[39m\u001b[38;5;132;01m%i\u001b[39;00m\u001b[38;5;124m written to \u001b[39m\u001b[38;5;132;01m%s\u001b[39;00m\u001b[38;5;124m\"\u001b[39m, idx, fp)\n",
      "File \u001b[1;32m~\\Anaconda3\\envs\\pygdal\\Lib\\site-packages\\gtts\\tts.py:273\u001b[0m, in \u001b[0;36mgTTS.stream\u001b[1;34m(self)\u001b[0m\n\u001b[0;32m    270\u001b[0m \u001b[38;5;28;01mexcept\u001b[39;00m requests\u001b[38;5;241m.\u001b[39mexceptions\u001b[38;5;241m.\u001b[39mHTTPError \u001b[38;5;28;01mas\u001b[39;00m e:  \u001b[38;5;66;03m# pragma: no cover\u001b[39;00m\n\u001b[0;32m    271\u001b[0m     \u001b[38;5;66;03m# Request successful, bad response\u001b[39;00m\n\u001b[0;32m    272\u001b[0m     log\u001b[38;5;241m.\u001b[39mdebug(\u001b[38;5;28mstr\u001b[39m(e))\n\u001b[1;32m--> 273\u001b[0m     \u001b[38;5;28;01mraise\u001b[39;00m gTTSError(tts\u001b[38;5;241m=\u001b[39m\u001b[38;5;28mself\u001b[39m, response\u001b[38;5;241m=\u001b[39mr)\n\u001b[0;32m    274\u001b[0m \u001b[38;5;28;01mexcept\u001b[39;00m requests\u001b[38;5;241m.\u001b[39mexceptions\u001b[38;5;241m.\u001b[39mRequestException \u001b[38;5;28;01mas\u001b[39;00m e:  \u001b[38;5;66;03m# pragma: no cover\u001b[39;00m\n\u001b[0;32m    275\u001b[0m     \u001b[38;5;66;03m# Request failed\u001b[39;00m\n\u001b[0;32m    276\u001b[0m     log\u001b[38;5;241m.\u001b[39mdebug(\u001b[38;5;28mstr\u001b[39m(e))\n",
      "\u001b[1;31mgTTSError\u001b[0m: 429 (Too Many Requests) from TTS API. Probable cause: Unknown"
     ]
    }
   ],
   "source": [
    "directory = 'C:/Users/sriram/Downloads/test-clean/LibriSpeech/test-clean'\n",
    "\n",
    "ext = ('.txt')\n",
    "\n",
    "for folders in os.listdir(directory):\n",
    "    dir = os.path.join(directory, folders)\n",
    "#     print(\"dir\",dir)\n",
    "    for files in os.listdir(dir):\n",
    "        newdir = os.path.join(dir, files)\n",
    "#         print(\"newdir\", newdir)\n",
    "        for file in os.listdir(newdir):\n",
    "            file_dir = os.path.join(newdir, file)\n",
    "            if file.endswith(ext):\n",
    "#                 print(\"files\", file_dir)\n",
    "                f = open(file_dir, 'r', encoding=\"utf-8\")\n",
    "                if f.mode == 'r':\n",
    "                    contents = f.read()\n",
    "                result = translator.translate(contents, dest='fr')\n",
    "                with open(file_dir.split('.')[0] + \".trans_french.txt\", 'w', encoding=\"utf-8\") as f:\n",
    "                    f.write(result.text)\n",
    "                    \n",
    "                with open(file_dir.split('.')[0] + \".trans_french.txt\", encoding=\"utf-8\") as fil:\n",
    "                    for item in fil:\n",
    "                        text_translated = item.split(\" \", 1)[1]\n",
    "                        speak = gTTS(text=text_translated, lang='fr', slow=False)\n",
    "                        speak.save(newdir + '/' + item.split(\" \", 1)[0] + '_infrench.wav')"
   ]
  },
  {
   "cell_type": "code",
   "execution_count": 6,
   "id": "66529687",
   "metadata": {},
   "outputs": [],
   "source": [
    "import os"
   ]
  },
  {
   "cell_type": "code",
   "execution_count": 7,
   "id": "4069a921",
   "metadata": {},
   "outputs": [
    {
     "ename": "gTTSError",
     "evalue": "Failed to connect. Probable cause: Unknown",
     "output_type": "error",
     "traceback": [
      "\u001b[1;31m---------------------------------------------------------------------------\u001b[0m",
      "\u001b[1;31mIncompleteRead\u001b[0m                            Traceback (most recent call last)",
      "File \u001b[1;32m~\\Anaconda3\\envs\\pygdal\\Lib\\site-packages\\urllib3\\response.py:705\u001b[0m, in \u001b[0;36mHTTPResponse._error_catcher\u001b[1;34m(self)\u001b[0m\n\u001b[0;32m    704\u001b[0m \u001b[38;5;28;01mtry\u001b[39;00m:\n\u001b[1;32m--> 705\u001b[0m     \u001b[38;5;28;01myield\u001b[39;00m\n\u001b[0;32m    707\u001b[0m \u001b[38;5;28;01mexcept\u001b[39;00m SocketTimeout \u001b[38;5;28;01mas\u001b[39;00m e:\n\u001b[0;32m    708\u001b[0m     \u001b[38;5;66;03m# FIXME: Ideally we'd like to include the url in the ReadTimeoutError but\u001b[39;00m\n\u001b[0;32m    709\u001b[0m     \u001b[38;5;66;03m# there is yet no clean way to get at it from this context.\u001b[39;00m\n",
      "File \u001b[1;32m~\\Anaconda3\\envs\\pygdal\\Lib\\site-packages\\urllib3\\response.py:1075\u001b[0m, in \u001b[0;36mHTTPResponse.read_chunked\u001b[1;34m(self, amt, decode_content)\u001b[0m\n\u001b[0;32m   1074\u001b[0m     \u001b[38;5;28;01mbreak\u001b[39;00m\n\u001b[1;32m-> 1075\u001b[0m chunk \u001b[38;5;241m=\u001b[39m \u001b[38;5;28;43mself\u001b[39;49m\u001b[38;5;241;43m.\u001b[39;49m\u001b[43m_handle_chunk\u001b[49m\u001b[43m(\u001b[49m\u001b[43mamt\u001b[49m\u001b[43m)\u001b[49m\n\u001b[0;32m   1076\u001b[0m decoded \u001b[38;5;241m=\u001b[39m \u001b[38;5;28mself\u001b[39m\u001b[38;5;241m.\u001b[39m_decode(\n\u001b[0;32m   1077\u001b[0m     chunk, decode_content\u001b[38;5;241m=\u001b[39mdecode_content, flush_decoder\u001b[38;5;241m=\u001b[39m\u001b[38;5;28;01mFalse\u001b[39;00m\n\u001b[0;32m   1078\u001b[0m )\n",
      "File \u001b[1;32m~\\Anaconda3\\envs\\pygdal\\Lib\\site-packages\\urllib3\\response.py:1026\u001b[0m, in \u001b[0;36mHTTPResponse._handle_chunk\u001b[1;34m(self, amt)\u001b[0m\n\u001b[0;32m   1025\u001b[0m \u001b[38;5;28;01melse\u001b[39;00m:  \u001b[38;5;66;03m# amt > self.chunk_left\u001b[39;00m\n\u001b[1;32m-> 1026\u001b[0m     returned_chunk \u001b[38;5;241m=\u001b[39m \u001b[38;5;28;43mself\u001b[39;49m\u001b[38;5;241;43m.\u001b[39;49m\u001b[43m_fp\u001b[49m\u001b[38;5;241;43m.\u001b[39;49m\u001b[43m_safe_read\u001b[49m\u001b[43m(\u001b[49m\u001b[38;5;28;43mself\u001b[39;49m\u001b[38;5;241;43m.\u001b[39;49m\u001b[43mchunk_left\u001b[49m\u001b[43m)\u001b[49m  \u001b[38;5;66;03m# type: ignore[union-attr]\u001b[39;00m\n\u001b[0;32m   1027\u001b[0m     \u001b[38;5;28mself\u001b[39m\u001b[38;5;241m.\u001b[39m_fp\u001b[38;5;241m.\u001b[39m_safe_read(\u001b[38;5;241m2\u001b[39m)  \u001b[38;5;66;03m# type: ignore[union-attr] # Toss the CRLF at the end of the chunk.\u001b[39;00m\n",
      "File \u001b[1;32m~\\Anaconda3\\envs\\pygdal\\Lib\\http\\client.py:632\u001b[0m, in \u001b[0;36mHTTPResponse._safe_read\u001b[1;34m(self, amt)\u001b[0m\n\u001b[0;32m    631\u001b[0m \u001b[38;5;28;01mif\u001b[39;00m \u001b[38;5;28mlen\u001b[39m(data) \u001b[38;5;241m<\u001b[39m amt:\n\u001b[1;32m--> 632\u001b[0m     \u001b[38;5;28;01mraise\u001b[39;00m IncompleteRead(data, amt\u001b[38;5;241m-\u001b[39m\u001b[38;5;28mlen\u001b[39m(data))\n\u001b[0;32m    633\u001b[0m \u001b[38;5;28;01mreturn\u001b[39;00m data\n",
      "\u001b[1;31mIncompleteRead\u001b[0m: IncompleteRead(2932 bytes read, 2028 more expected)",
      "\nThe above exception was the direct cause of the following exception:\n",
      "\u001b[1;31mProtocolError\u001b[0m                             Traceback (most recent call last)",
      "File \u001b[1;32m~\\Anaconda3\\envs\\pygdal\\Lib\\site-packages\\requests\\models.py:816\u001b[0m, in \u001b[0;36mResponse.iter_content.<locals>.generate\u001b[1;34m()\u001b[0m\n\u001b[0;32m    815\u001b[0m \u001b[38;5;28;01mtry\u001b[39;00m:\n\u001b[1;32m--> 816\u001b[0m     \u001b[38;5;28;01myield from\u001b[39;00m \u001b[38;5;28mself\u001b[39m\u001b[38;5;241m.\u001b[39mraw\u001b[38;5;241m.\u001b[39mstream(chunk_size, decode_content\u001b[38;5;241m=\u001b[39m\u001b[38;5;28;01mTrue\u001b[39;00m)\n\u001b[0;32m    817\u001b[0m \u001b[38;5;28;01mexcept\u001b[39;00m ProtocolError \u001b[38;5;28;01mas\u001b[39;00m e:\n",
      "File \u001b[1;32m~\\Anaconda3\\envs\\pygdal\\Lib\\site-packages\\urllib3\\response.py:932\u001b[0m, in \u001b[0;36mHTTPResponse.stream\u001b[1;34m(self, amt, decode_content)\u001b[0m\n\u001b[0;32m    931\u001b[0m \u001b[38;5;28;01mif\u001b[39;00m \u001b[38;5;28mself\u001b[39m\u001b[38;5;241m.\u001b[39mchunked \u001b[38;5;129;01mand\u001b[39;00m \u001b[38;5;28mself\u001b[39m\u001b[38;5;241m.\u001b[39msupports_chunked_reads():\n\u001b[1;32m--> 932\u001b[0m     \u001b[38;5;28;01myield from\u001b[39;00m \u001b[38;5;28mself\u001b[39m\u001b[38;5;241m.\u001b[39mread_chunked(amt, decode_content\u001b[38;5;241m=\u001b[39mdecode_content)\n\u001b[0;32m    933\u001b[0m \u001b[38;5;28;01melse\u001b[39;00m:\n",
      "File \u001b[1;32m~\\Anaconda3\\envs\\pygdal\\Lib\\site-packages\\urllib3\\response.py:1060\u001b[0m, in \u001b[0;36mHTTPResponse.read_chunked\u001b[1;34m(self, amt, decode_content)\u001b[0m\n\u001b[0;32m   1055\u001b[0m     \u001b[38;5;28;01mraise\u001b[39;00m BodyNotHttplibCompatible(\n\u001b[0;32m   1056\u001b[0m         \u001b[38;5;124m\"\u001b[39m\u001b[38;5;124mBody should be http.client.HTTPResponse like. \u001b[39m\u001b[38;5;124m\"\u001b[39m\n\u001b[0;32m   1057\u001b[0m         \u001b[38;5;124m\"\u001b[39m\u001b[38;5;124mIt should have have an fp attribute which returns raw chunks.\u001b[39m\u001b[38;5;124m\"\u001b[39m\n\u001b[0;32m   1058\u001b[0m     )\n\u001b[1;32m-> 1060\u001b[0m \u001b[43m\u001b[49m\u001b[38;5;28;43;01mwith\u001b[39;49;00m\u001b[43m \u001b[49m\u001b[38;5;28;43mself\u001b[39;49m\u001b[38;5;241;43m.\u001b[39;49m\u001b[43m_error_catcher\u001b[49m\u001b[43m(\u001b[49m\u001b[43m)\u001b[49m\u001b[43m:\u001b[49m\n\u001b[0;32m   1061\u001b[0m \u001b[43m    \u001b[49m\u001b[38;5;66;43;03m# Don't bother reading the body of a HEAD request.\u001b[39;49;00m\n\u001b[0;32m   1062\u001b[0m \u001b[43m    \u001b[49m\u001b[38;5;28;43;01mif\u001b[39;49;00m\u001b[43m \u001b[49m\u001b[38;5;28;43mself\u001b[39;49m\u001b[38;5;241;43m.\u001b[39;49m\u001b[43m_original_response\u001b[49m\u001b[43m \u001b[49m\u001b[38;5;129;43;01mand\u001b[39;49;00m\u001b[43m \u001b[49m\u001b[43mis_response_to_head\u001b[49m\u001b[43m(\u001b[49m\u001b[38;5;28;43mself\u001b[39;49m\u001b[38;5;241;43m.\u001b[39;49m\u001b[43m_original_response\u001b[49m\u001b[43m)\u001b[49m\u001b[43m:\u001b[49m\n",
      "File \u001b[1;32m~\\Anaconda3\\envs\\pygdal\\Lib\\contextlib.py:155\u001b[0m, in \u001b[0;36m_GeneratorContextManager.__exit__\u001b[1;34m(self, typ, value, traceback)\u001b[0m\n\u001b[0;32m    154\u001b[0m \u001b[38;5;28;01mtry\u001b[39;00m:\n\u001b[1;32m--> 155\u001b[0m     \u001b[38;5;28mself\u001b[39m\u001b[38;5;241m.\u001b[39mgen\u001b[38;5;241m.\u001b[39mthrow(typ, value, traceback)\n\u001b[0;32m    156\u001b[0m \u001b[38;5;28;01mexcept\u001b[39;00m \u001b[38;5;167;01mStopIteration\u001b[39;00m \u001b[38;5;28;01mas\u001b[39;00m exc:\n\u001b[0;32m    157\u001b[0m     \u001b[38;5;66;03m# Suppress StopIteration *unless* it's the same exception that\u001b[39;00m\n\u001b[0;32m    158\u001b[0m     \u001b[38;5;66;03m# was passed to throw().  This prevents a StopIteration\u001b[39;00m\n\u001b[0;32m    159\u001b[0m     \u001b[38;5;66;03m# raised inside the \"with\" statement from being suppressed.\u001b[39;00m\n",
      "File \u001b[1;32m~\\Anaconda3\\envs\\pygdal\\Lib\\site-packages\\urllib3\\response.py:722\u001b[0m, in \u001b[0;36mHTTPResponse._error_catcher\u001b[1;34m(self)\u001b[0m\n\u001b[0;32m    720\u001b[0m \u001b[38;5;28;01mexcept\u001b[39;00m (HTTPException, \u001b[38;5;167;01mOSError\u001b[39;00m) \u001b[38;5;28;01mas\u001b[39;00m e:\n\u001b[0;32m    721\u001b[0m     \u001b[38;5;66;03m# This includes IncompleteRead.\u001b[39;00m\n\u001b[1;32m--> 722\u001b[0m     \u001b[38;5;28;01mraise\u001b[39;00m ProtocolError(\u001b[38;5;124mf\u001b[39m\u001b[38;5;124m\"\u001b[39m\u001b[38;5;124mConnection broken: \u001b[39m\u001b[38;5;132;01m{\u001b[39;00me\u001b[38;5;132;01m!r}\u001b[39;00m\u001b[38;5;124m\"\u001b[39m, e) \u001b[38;5;28;01mfrom\u001b[39;00m \u001b[38;5;21;01me\u001b[39;00m\n\u001b[0;32m    724\u001b[0m \u001b[38;5;66;03m# If no exception is thrown, we should avoid cleaning up\u001b[39;00m\n\u001b[0;32m    725\u001b[0m \u001b[38;5;66;03m# unnecessarily.\u001b[39;00m\n",
      "\u001b[1;31mProtocolError\u001b[0m: ('Connection broken: IncompleteRead(2932 bytes read, 2028 more expected)', IncompleteRead(2932 bytes read, 2028 more expected))",
      "\nDuring handling of the above exception, another exception occurred:\n",
      "\u001b[1;31mChunkedEncodingError\u001b[0m                      Traceback (most recent call last)",
      "File \u001b[1;32m~\\Anaconda3\\envs\\pygdal\\Lib\\site-packages\\gtts\\tts.py:261\u001b[0m, in \u001b[0;36mgTTS.stream\u001b[1;34m(self)\u001b[0m\n\u001b[0;32m    259\u001b[0m \u001b[38;5;28;01mwith\u001b[39;00m requests\u001b[38;5;241m.\u001b[39mSession() \u001b[38;5;28;01mas\u001b[39;00m s:\n\u001b[0;32m    260\u001b[0m     \u001b[38;5;66;03m# Send request\u001b[39;00m\n\u001b[1;32m--> 261\u001b[0m     r \u001b[38;5;241m=\u001b[39m \u001b[43ms\u001b[49m\u001b[38;5;241;43m.\u001b[39;49m\u001b[43msend\u001b[49m\u001b[43m(\u001b[49m\n\u001b[0;32m    262\u001b[0m \u001b[43m        \u001b[49m\u001b[43mrequest\u001b[49m\u001b[38;5;241;43m=\u001b[39;49m\u001b[43mpr\u001b[49m\u001b[43m,\u001b[49m\u001b[43m \u001b[49m\u001b[43mproxies\u001b[49m\u001b[38;5;241;43m=\u001b[39;49m\u001b[43murllib\u001b[49m\u001b[38;5;241;43m.\u001b[39;49m\u001b[43mrequest\u001b[49m\u001b[38;5;241;43m.\u001b[39;49m\u001b[43mgetproxies\u001b[49m\u001b[43m(\u001b[49m\u001b[43m)\u001b[49m\u001b[43m,\u001b[49m\u001b[43m \u001b[49m\u001b[43mverify\u001b[49m\u001b[38;5;241;43m=\u001b[39;49m\u001b[38;5;28;43;01mFalse\u001b[39;49;00m\n\u001b[0;32m    263\u001b[0m \u001b[43m    \u001b[49m\u001b[43m)\u001b[49m\n\u001b[0;32m    265\u001b[0m log\u001b[38;5;241m.\u001b[39mdebug(\u001b[38;5;124m\"\u001b[39m\u001b[38;5;124mheaders-\u001b[39m\u001b[38;5;132;01m%i\u001b[39;00m\u001b[38;5;124m: \u001b[39m\u001b[38;5;132;01m%s\u001b[39;00m\u001b[38;5;124m\"\u001b[39m, idx, r\u001b[38;5;241m.\u001b[39mrequest\u001b[38;5;241m.\u001b[39mheaders)\n",
      "File \u001b[1;32m~\\Anaconda3\\envs\\pygdal\\Lib\\site-packages\\requests\\sessions.py:745\u001b[0m, in \u001b[0;36mSession.send\u001b[1;34m(self, request, **kwargs)\u001b[0m\n\u001b[0;32m    744\u001b[0m \u001b[38;5;28;01mif\u001b[39;00m \u001b[38;5;129;01mnot\u001b[39;00m stream:\n\u001b[1;32m--> 745\u001b[0m     \u001b[43mr\u001b[49m\u001b[38;5;241;43m.\u001b[39;49m\u001b[43mcontent\u001b[49m\n\u001b[0;32m    747\u001b[0m \u001b[38;5;28;01mreturn\u001b[39;00m r\n",
      "File \u001b[1;32m~\\Anaconda3\\envs\\pygdal\\Lib\\site-packages\\requests\\models.py:899\u001b[0m, in \u001b[0;36mResponse.content\u001b[1;34m(self)\u001b[0m\n\u001b[0;32m    898\u001b[0m     \u001b[38;5;28;01melse\u001b[39;00m:\n\u001b[1;32m--> 899\u001b[0m         \u001b[38;5;28mself\u001b[39m\u001b[38;5;241m.\u001b[39m_content \u001b[38;5;241m=\u001b[39m \u001b[38;5;124mb\u001b[39m\u001b[38;5;124m\"\u001b[39m\u001b[38;5;124m\"\u001b[39m\u001b[38;5;241m.\u001b[39mjoin(\u001b[38;5;28mself\u001b[39m\u001b[38;5;241m.\u001b[39miter_content(CONTENT_CHUNK_SIZE)) \u001b[38;5;129;01mor\u001b[39;00m \u001b[38;5;124mb\u001b[39m\u001b[38;5;124m\"\u001b[39m\u001b[38;5;124m\"\u001b[39m\n\u001b[0;32m    901\u001b[0m \u001b[38;5;28mself\u001b[39m\u001b[38;5;241m.\u001b[39m_content_consumed \u001b[38;5;241m=\u001b[39m \u001b[38;5;28;01mTrue\u001b[39;00m\n",
      "File \u001b[1;32m~\\Anaconda3\\envs\\pygdal\\Lib\\site-packages\\requests\\models.py:818\u001b[0m, in \u001b[0;36mResponse.iter_content.<locals>.generate\u001b[1;34m()\u001b[0m\n\u001b[0;32m    817\u001b[0m \u001b[38;5;28;01mexcept\u001b[39;00m ProtocolError \u001b[38;5;28;01mas\u001b[39;00m e:\n\u001b[1;32m--> 818\u001b[0m     \u001b[38;5;28;01mraise\u001b[39;00m ChunkedEncodingError(e)\n\u001b[0;32m    819\u001b[0m \u001b[38;5;28;01mexcept\u001b[39;00m DecodeError \u001b[38;5;28;01mas\u001b[39;00m e:\n",
      "\u001b[1;31mChunkedEncodingError\u001b[0m: ('Connection broken: IncompleteRead(2932 bytes read, 2028 more expected)', IncompleteRead(2932 bytes read, 2028 more expected))",
      "\nDuring handling of the above exception, another exception occurred:\n",
      "\u001b[1;31mgTTSError\u001b[0m                                 Traceback (most recent call last)",
      "Cell \u001b[1;32mIn[7], line 26\u001b[0m\n\u001b[0;32m     24\u001b[0m text_translated \u001b[38;5;241m=\u001b[39m item\u001b[38;5;241m.\u001b[39msplit(\u001b[38;5;124m\"\u001b[39m\u001b[38;5;124m \u001b[39m\u001b[38;5;124m\"\u001b[39m, \u001b[38;5;241m1\u001b[39m)[\u001b[38;5;241m1\u001b[39m]\n\u001b[0;32m     25\u001b[0m speak \u001b[38;5;241m=\u001b[39m gTTS(text\u001b[38;5;241m=\u001b[39mtext_translated, lang\u001b[38;5;241m=\u001b[39m\u001b[38;5;124m'\u001b[39m\u001b[38;5;124mfr\u001b[39m\u001b[38;5;124m'\u001b[39m, slow\u001b[38;5;241m=\u001b[39m\u001b[38;5;28;01mFalse\u001b[39;00m)\n\u001b[1;32m---> 26\u001b[0m \u001b[43mspeak\u001b[49m\u001b[38;5;241;43m.\u001b[39;49m\u001b[43msave\u001b[49m\u001b[43m(\u001b[49m\u001b[43mnewdir\u001b[49m\u001b[43m \u001b[49m\u001b[38;5;241;43m+\u001b[39;49m\u001b[43m \u001b[49m\u001b[38;5;124;43m'\u001b[39;49m\u001b[38;5;124;43m/\u001b[39;49m\u001b[38;5;124;43m'\u001b[39;49m\u001b[43m \u001b[49m\u001b[38;5;241;43m+\u001b[39;49m\u001b[43m \u001b[49m\u001b[43mitem\u001b[49m\u001b[38;5;241;43m.\u001b[39;49m\u001b[43msplit\u001b[49m\u001b[43m(\u001b[49m\u001b[38;5;124;43m\"\u001b[39;49m\u001b[38;5;124;43m \u001b[39;49m\u001b[38;5;124;43m\"\u001b[39;49m\u001b[43m,\u001b[49m\u001b[43m \u001b[49m\u001b[38;5;241;43m1\u001b[39;49m\u001b[43m)\u001b[49m\u001b[43m[\u001b[49m\u001b[38;5;241;43m0\u001b[39;49m\u001b[43m]\u001b[49m\u001b[43m \u001b[49m\u001b[38;5;241;43m+\u001b[39;49m\u001b[43m \u001b[49m\u001b[38;5;124;43m'\u001b[39;49m\u001b[38;5;124;43m_infrench.wav\u001b[39;49m\u001b[38;5;124;43m'\u001b[39;49m\u001b[43m)\u001b[49m\n",
      "File \u001b[1;32m~\\Anaconda3\\envs\\pygdal\\Lib\\site-packages\\gtts\\tts.py:325\u001b[0m, in \u001b[0;36mgTTS.save\u001b[1;34m(self, savefile)\u001b[0m\n\u001b[0;32m    315\u001b[0m \u001b[38;5;250m\u001b[39m\u001b[38;5;124;03m\"\"\"Do the TTS API request and write result to file.\u001b[39;00m\n\u001b[0;32m    316\u001b[0m \n\u001b[0;32m    317\u001b[0m \u001b[38;5;124;03mArgs:\u001b[39;00m\n\u001b[1;32m   (...)\u001b[0m\n\u001b[0;32m    322\u001b[0m \n\u001b[0;32m    323\u001b[0m \u001b[38;5;124;03m\"\"\"\u001b[39;00m\n\u001b[0;32m    324\u001b[0m \u001b[38;5;28;01mwith\u001b[39;00m \u001b[38;5;28mopen\u001b[39m(\u001b[38;5;28mstr\u001b[39m(savefile), \u001b[38;5;124m\"\u001b[39m\u001b[38;5;124mwb\u001b[39m\u001b[38;5;124m\"\u001b[39m) \u001b[38;5;28;01mas\u001b[39;00m f:\n\u001b[1;32m--> 325\u001b[0m     \u001b[38;5;28;43mself\u001b[39;49m\u001b[38;5;241;43m.\u001b[39;49m\u001b[43mwrite_to_fp\u001b[49m\u001b[43m(\u001b[49m\u001b[43mf\u001b[49m\u001b[43m)\u001b[49m\n\u001b[0;32m    326\u001b[0m     log\u001b[38;5;241m.\u001b[39mdebug(\u001b[38;5;124m\"\u001b[39m\u001b[38;5;124mSaved to \u001b[39m\u001b[38;5;132;01m%s\u001b[39;00m\u001b[38;5;124m\"\u001b[39m, savefile)\n",
      "File \u001b[1;32m~\\Anaconda3\\envs\\pygdal\\Lib\\site-packages\\gtts\\tts.py:306\u001b[0m, in \u001b[0;36mgTTS.write_to_fp\u001b[1;34m(self, fp)\u001b[0m\n\u001b[0;32m    294\u001b[0m \u001b[38;5;250m\u001b[39m\u001b[38;5;124;03m\"\"\"Do the TTS API request(s) and write bytes to a file-like object.\u001b[39;00m\n\u001b[0;32m    295\u001b[0m \n\u001b[0;32m    296\u001b[0m \u001b[38;5;124;03mArgs:\u001b[39;00m\n\u001b[1;32m   (...)\u001b[0m\n\u001b[0;32m    302\u001b[0m \n\u001b[0;32m    303\u001b[0m \u001b[38;5;124;03m\"\"\"\u001b[39;00m\n\u001b[0;32m    305\u001b[0m \u001b[38;5;28;01mtry\u001b[39;00m:\n\u001b[1;32m--> 306\u001b[0m     \u001b[38;5;28;01mfor\u001b[39;00m idx, decoded \u001b[38;5;129;01min\u001b[39;00m \u001b[38;5;28menumerate\u001b[39m(\u001b[38;5;28mself\u001b[39m\u001b[38;5;241m.\u001b[39mstream()):\n\u001b[0;32m    307\u001b[0m         fp\u001b[38;5;241m.\u001b[39mwrite(decoded)\n\u001b[0;32m    308\u001b[0m         log\u001b[38;5;241m.\u001b[39mdebug(\u001b[38;5;124m\"\u001b[39m\u001b[38;5;124mpart-\u001b[39m\u001b[38;5;132;01m%i\u001b[39;00m\u001b[38;5;124m written to \u001b[39m\u001b[38;5;132;01m%s\u001b[39;00m\u001b[38;5;124m\"\u001b[39m, idx, fp)\n",
      "File \u001b[1;32m~\\Anaconda3\\envs\\pygdal\\Lib\\site-packages\\gtts\\tts.py:277\u001b[0m, in \u001b[0;36mgTTS.stream\u001b[1;34m(self)\u001b[0m\n\u001b[0;32m    274\u001b[0m \u001b[38;5;28;01mexcept\u001b[39;00m requests\u001b[38;5;241m.\u001b[39mexceptions\u001b[38;5;241m.\u001b[39mRequestException \u001b[38;5;28;01mas\u001b[39;00m e:  \u001b[38;5;66;03m# pragma: no cover\u001b[39;00m\n\u001b[0;32m    275\u001b[0m     \u001b[38;5;66;03m# Request failed\u001b[39;00m\n\u001b[0;32m    276\u001b[0m     log\u001b[38;5;241m.\u001b[39mdebug(\u001b[38;5;28mstr\u001b[39m(e))\n\u001b[1;32m--> 277\u001b[0m     \u001b[38;5;28;01mraise\u001b[39;00m gTTSError(tts\u001b[38;5;241m=\u001b[39m\u001b[38;5;28mself\u001b[39m)\n\u001b[0;32m    279\u001b[0m \u001b[38;5;66;03m# Write\u001b[39;00m\n\u001b[0;32m    280\u001b[0m \u001b[38;5;28;01mfor\u001b[39;00m line \u001b[38;5;129;01min\u001b[39;00m r\u001b[38;5;241m.\u001b[39miter_lines(chunk_size\u001b[38;5;241m=\u001b[39m\u001b[38;5;241m1024\u001b[39m):\n",
      "\u001b[1;31mgTTSError\u001b[0m: Failed to connect. Probable cause: Unknown"
     ]
    }
   ],
   "source": [
    "directory = 'C:/Users/sriram/Downloads/dev-cleanf/LibriSpeech/dev-clean'\n",
    "\n",
    "ext = ('.txt')\n",
    "\n",
    "for folders in os.listdir(directory):\n",
    "    dir = os.path.join(directory, folders)\n",
    "#     print(\"dir\",dir)\n",
    "    for files in os.listdir(dir):\n",
    "        newdir = os.path.join(dir, files)\n",
    "#         print(\"newdir\", newdir)\n",
    "        for file in os.listdir(newdir):\n",
    "            file_dir = os.path.join(newdir, file)\n",
    "            if file.endswith(ext):\n",
    "#                 print(\"files\", file_dir)\n",
    "                f = open(file_dir, 'r', encoding=\"utf-8\")\n",
    "                if f.mode == 'r':\n",
    "                    contents = f.read()\n",
    "                result = translator.translate(contents, dest='fr')\n",
    "                with open(file_dir.split('.')[0] + \".trans_french.txt\", 'w', encoding=\"utf-8\") as f:\n",
    "                    f.write(result.text)\n",
    "                    \n",
    "                with open(file_dir.split('.')[0] + \".trans_french.txt\", encoding=\"utf-8\") as fil:\n",
    "                    for item in fil:\n",
    "                        text_translated = item.split(\" \", 1)[1]\n",
    "                        speak = gTTS(text=text_translated, lang='fr', slow=False)\n",
    "                        speak.save(newdir + '/' + item.split(\" \", 1)[0] + '_infrench.wav')"
   ]
  },
  {
   "cell_type": "code",
   "execution_count": 10,
   "id": "1038eabb",
   "metadata": {},
   "outputs": [],
   "source": [
    "directory = 'C:/Users/sriram/Downloads/dev-cleanf/LibriSpeech/dev-clean'\n",
    "\n",
    "ext = ('.txt')\n",
    "\n",
    "for folders in (os.listdir(directory)[24:]):\n",
    "    dir = os.path.join(directory, folders)\n",
    "#     print(\"dir\",dir)\n",
    "    for files in os.listdir(dir):\n",
    "        newdir = os.path.join(dir, files)\n",
    "#         print(\"newdir\", newdir)\n",
    "        for file in os.listdir(newdir):\n",
    "            file_dir = os.path.join(newdir, file)\n",
    "            if file.endswith(ext):\n",
    "#                 print(\"files\", file_dir)\n",
    "                f = open(file_dir, 'r', encoding=\"utf-8\")\n",
    "                if f.mode == 'r':\n",
    "                    contents = f.read()\n",
    "                result = translator.translate(contents, dest='fr')\n",
    "                with open(file_dir.split('.')[0] + \".trans_french.txt\", 'w', encoding=\"utf-8\") as f:\n",
    "                    f.write(result.text)\n",
    "                    \n",
    "                with open(file_dir.split('.')[0] + \".trans_french.txt\", encoding=\"utf-8\") as fil:\n",
    "                    for item in fil:\n",
    "                        text_translated = item.split(\" \", 1)[1]\n",
    "                        speak = gTTS(text=text_translated, lang='fr', slow=False)\n",
    "                        speak.save(newdir + '/' + item.split(\" \", 1)[0] + '_infrench.wav')"
   ]
  }
 ],
 "metadata": {
  "kernelspec": {
   "display_name": "Python 3 (ipykernel)",
   "language": "python",
   "name": "python3"
  },
  "language_info": {
   "codemirror_mode": {
    "name": "ipython",
    "version": 3
   },
   "file_extension": ".py",
   "mimetype": "text/x-python",
   "name": "python",
   "nbconvert_exporter": "python",
   "pygments_lexer": "ipython3",
   "version": "3.11.0"
  }
 },
 "nbformat": 4,
 "nbformat_minor": 5
}
